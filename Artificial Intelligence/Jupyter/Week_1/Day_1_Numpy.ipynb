{
 "cells": [
  {
   "cell_type": "code",
   "execution_count": 75,
   "id": "1df543b2-e4f1-49fe-9501-381c22478035",
   "metadata": {},
   "outputs": [],
   "source": [
    "import numpy as np"
   ]
  },
  {
   "cell_type": "code",
   "execution_count": 76,
   "id": "9daffbb9-e655-4497-9f6b-906387ca4ed4",
   "metadata": {},
   "outputs": [
    {
     "name": "stdout",
     "output_type": "stream",
     "text": [
      "Number of dimensions: 0\n"
     ]
    }
   ],
   "source": [
    "a = np.array(3)\n",
    "print(\"Number of dimensions:\", a.ndim)\n",
    "# a.dtype"
   ]
  },
  {
   "cell_type": "code",
   "execution_count": null,
   "id": "7048b24f-b28b-4bd3-96be-930d3aa953a2",
   "metadata": {},
   "outputs": [],
   "source": []
  },
  {
   "cell_type": "code",
   "execution_count": 77,
   "id": "5dada815-1295-45f4-bbc4-8997646aa913",
   "metadata": {},
   "outputs": [
    {
     "name": "stdout",
     "output_type": "stream",
     "text": [
      "Number of dimensions: 1\n"
     ]
    }
   ],
   "source": [
    "a = np.array([1, 2, 3, 4, 589])\n",
    "print(\"Number of dimensions:\", a.ndim)\n",
    "# a.dtype"
   ]
  },
  {
   "cell_type": "code",
   "execution_count": 78,
   "id": "9f348a6b-dd84-4796-b374-601449bfd453",
   "metadata": {},
   "outputs": [
    {
     "name": "stdout",
     "output_type": "stream",
     "text": [
      "Number of dimensions: 2\n"
     ]
    }
   ],
   "source": [
    "a = np.array([[1,2,5432],[654,676,58]])\n",
    "print(\"Number of dimensions:\", a.ndim)\n",
    "# a.dtype"
   ]
  },
  {
   "cell_type": "code",
   "execution_count": 79,
   "id": "9592bce9-6ed3-4729-8432-2401667de969",
   "metadata": {},
   "outputs": [
    {
     "name": "stdout",
     "output_type": "stream",
     "text": [
      "Number of dimensions: 2\n"
     ]
    }
   ],
   "source": [
    "a = np.array([[23,345,11],[123,23,1]])\n",
    "print(\"Number of dimensions:\", a.ndim)"
   ]
  },
  {
   "cell_type": "code",
   "execution_count": 80,
   "id": "1b2c37d0-95a5-4943-958c-8e5430ee3a99",
   "metadata": {},
   "outputs": [
    {
     "name": "stdout",
     "output_type": "stream",
     "text": [
      "Number of dimensions: 2\n"
     ]
    }
   ],
   "source": [
    "a = np.array([[1,2,3],[2,3,5],[5,3,1]])\n",
    "print(\"Number of dimensions:\", a.ndim)"
   ]
  },
  {
   "cell_type": "code",
   "execution_count": 81,
   "id": "0d23c708-2b60-4cbc-8cd3-9e9214f84b69",
   "metadata": {},
   "outputs": [
    {
     "name": "stdout",
     "output_type": "stream",
     "text": [
      "Number of dimensions: 3\n"
     ]
    }
   ],
   "source": [
    "#okay I guess I now understand how to create\n",
    "#the 3D\n",
    "a = np.array([[[1,2,3],[4,5,6],[900,432,345]],[[7,8,9],[10,11,12],[123,234,456]]])\n",
    "print(\"Number of dimensions:\", a.ndim)"
   ]
  },
  {
   "cell_type": "code",
   "execution_count": 82,
   "id": "eb384260-c8f3-49fa-9feb-fffe44adf16b",
   "metadata": {},
   "outputs": [
    {
     "name": "stdout",
     "output_type": "stream",
     "text": [
      "Number of dimensions: 3\n"
     ]
    }
   ],
   "source": [
    "#Naa it's confusing.....\n",
    "#Have to clarify this up\n",
    "a = np.array([[[1,4,5],[123,43,23],[12,14,5],[34,24,2]],\n",
    "              [[49,34,92],[5943,2443,542],[2342,52,5],[543,56,2]],\n",
    "             [[543,554,1],[35,56,21],[532,45,54],[5543,2,4]]])\n",
    "print(\"Number of dimensions:\", a.ndim)"
   ]
  },
  {
   "cell_type": "code",
   "execution_count": 83,
   "id": "1183da33-b655-4072-a4e9-5108b47a9aea",
   "metadata": {},
   "outputs": [
    {
     "data": {
      "text/plain": [
       "array([[[   1,    4,    5],\n",
       "        [ 123,   43,   23],\n",
       "        [  12,   14,    5],\n",
       "        [  34,   24,    2]],\n",
       "\n",
       "       [[  49,   34,   92],\n",
       "        [5943, 2443,  542],\n",
       "        [2342,   52,    5],\n",
       "        [ 543,   56,    2]],\n",
       "\n",
       "       [[ 543,  554,    1],\n",
       "        [  35,   56,   21],\n",
       "        [ 532,   45,   54],\n",
       "        [5543,    2,    4]]])"
      ]
     },
     "execution_count": 83,
     "metadata": {},
     "output_type": "execute_result"
    }
   ],
   "source": [
    "a"
   ]
  },
  {
   "cell_type": "code",
   "execution_count": 84,
   "id": "d8d8d9fc-695f-4492-8ce1-9b5a48a378cc",
   "metadata": {},
   "outputs": [
    {
     "name": "stdout",
     "output_type": "stream",
     "text": [
      "Number of dimensions: 3\n"
     ]
    }
   ],
   "source": [
    "#Naa it's confusing.....\n",
    "#Have to clarify this up\n",
    "a = np.array([[[1,4,5],[123,43,23],[12,14,5],[34,24,2]],\n",
    "              \n",
    "              [[49,34,92],[5943,2443,542],[2342,52,5],[543,56,2]],\n",
    "              \n",
    "             [[543,554,1],[35,56,21],[532,45,54],[5543,2,4]]])\n",
    "print(\"Number of dimensions:\", a.ndim)"
   ]
  },
  {
   "cell_type": "code",
   "execution_count": 85,
   "id": "e38f2851-fc21-4311-a676-c50bab54548c",
   "metadata": {},
   "outputs": [
    {
     "data": {
      "text/plain": [
       "array([[[   1,    4,    5],\n",
       "        [ 123,   43,   23],\n",
       "        [  12,   14,    5],\n",
       "        [  34,   24,    2]],\n",
       "\n",
       "       [[  49,   34,   92],\n",
       "        [5943, 2443,  542],\n",
       "        [2342,   52,    5],\n",
       "        [ 543,   56,    2]],\n",
       "\n",
       "       [[ 543,  554,    1],\n",
       "        [  35,   56,   21],\n",
       "        [ 532,   45,   54],\n",
       "        [5543,    2,    4]]])"
      ]
     },
     "execution_count": 85,
     "metadata": {},
     "output_type": "execute_result"
    }
   ],
   "source": [
    "a"
   ]
  },
  {
   "cell_type": "code",
   "execution_count": 86,
   "id": "5698531f-1922-4e69-9d52-64e2f21a3864",
   "metadata": {},
   "outputs": [],
   "source": [
    "# #Naa it's confusing.....\n",
    "# #Have to clarify this up\n",
    "# a = np.array([\n",
    "              \n",
    "#               [[1,4,5],[123,43,23],[12,14,5],[34,24,2]],\n",
    "              \n",
    "#               [[49,34,92],[5943,2443,542],[2342,52,5],[543,56,2]],\n",
    "              \n",
    "#              [[543,554,1],[35,56,21],[532,45,54],[5543,2,4]],\n",
    "             \n",
    "#              [[543,554,1],[35,56,21],[532,45,54],[5543,2,4]]\n",
    "             \n",
    "#              ])\n",
    "# print(\"Number of dimensions:\", a.ndim)"
   ]
  },
  {
   "cell_type": "code",
   "execution_count": 87,
   "id": "3876c4a7-2d01-461c-8a79-68b849e33e71",
   "metadata": {},
   "outputs": [
    {
     "data": {
      "text/plain": [
       "array([[[   1,    4,    5],\n",
       "        [ 123,   43,   23],\n",
       "        [  12,   14,    5],\n",
       "        [  34,   24,    2]],\n",
       "\n",
       "       [[  49,   34,   92],\n",
       "        [5943, 2443,  542],\n",
       "        [2342,   52,    5],\n",
       "        [ 543,   56,    2]],\n",
       "\n",
       "       [[ 543,  554,    1],\n",
       "        [  35,   56,   21],\n",
       "        [ 532,   45,   54],\n",
       "        [5543,    2,    4]]])"
      ]
     },
     "execution_count": 87,
     "metadata": {},
     "output_type": "execute_result"
    }
   ],
   "source": [
    "a\n"
   ]
  },
  {
   "cell_type": "code",
   "execution_count": 88,
   "id": "4c53301b-8097-4c63-9620-7d39165ae8ca",
   "metadata": {},
   "outputs": [
    {
     "data": {
      "text/plain": [
       "3"
      ]
     },
     "execution_count": 88,
     "metadata": {},
     "output_type": "execute_result"
    }
   ],
   "source": [
    "a.ndim"
   ]
  },
  {
   "cell_type": "code",
   "execution_count": 89,
   "id": "908ec4b8-3f56-496b-8118-6f4c12f7c44e",
   "metadata": {},
   "outputs": [],
   "source": [
    "# # okay I am going to challenge myself to create a 4D array. That should at elast \n",
    "# # check as a milestoen for today\n",
    "\n",
    "# a = np.array()\n",
    "\n",
    "\n",
    "# print(\"Number of dimensions:\", a.ndim)"
   ]
  },
  {
   "cell_type": "code",
   "execution_count": 90,
   "id": "9d9fd24a-ebd4-4af8-b90c-1bcdf7e161e3",
   "metadata": {},
   "outputs": [],
   "source": [
    "# import numpy as np\n",
    "\n",
    "# # Creating a 4D array with shape (2, 2, 4, 3)\n",
    "# a = np.array([\n",
    "                \n",
    "#               [\n",
    "#                   [[1, 4, 5], [123, 43, 23], [12, 14, 5], [34, 24, 2]],\n",
    "#                [[49, 34, 92], [5943, 2443, 542], [2342, 52, 5], [543, 56, 2]]\n",
    "#               ],\n",
    "\n",
    "              \n",
    "#               [\n",
    "#                   [[543, 554, 1], [35, 56, 21], [532, 45, 54], [5543, 2, 4]],\n",
    "#                [[543, 554, 1], [35, 56, 21], [532, 45, 54], [5543, 2, 4]]\n",
    "#               ]\n",
    "    \n",
    "#              ])\n",
    "\n",
    "# print(a)\n",
    "# print(\"\\nNumber of dimensions:\", a.ndim)  # Output: 4\n"
   ]
  },
  {
   "cell_type": "code",
   "execution_count": 91,
   "id": "b70a76de-b7d7-4a03-8b97-48ce0a88e706",
   "metadata": {},
   "outputs": [],
   "source": [
    "# # The above was generated by the AI so if I get it right?\n",
    "\n",
    "# # Honestly I'm confused as f fr\n",
    "\n",
    "\n",
    "# a = np.array([\n",
    "\n",
    "#     [\n",
    "#         [[],[],[],[]],\n",
    "#         [[],[],[],[]]\n",
    "#     ],\n",
    "\n",
    "#     [\n",
    "#         [[],[],[],[]],\n",
    "#         [[],[],[],[]]\n",
    "#     ]\n",
    "    \n",
    "# ])\n",
    "# print(\"\\nNumber of dimensions:\", a.ndim)  # Output: 4\n"
   ]
  },
  {
   "cell_type": "code",
   "execution_count": 92,
   "id": "4ba6b794-e203-4baf-b6ec-e3cfb511848b",
   "metadata": {},
   "outputs": [],
   "source": [
    "# # An attempt to create a 5D array\n",
    "\n",
    "\n",
    "# a = np.array([\n",
    "\n",
    "#     [\n",
    "#         [[],[],[],[],[]],\n",
    "#         [[],[],[],[],[]]\n",
    "#     ],\n",
    "\n",
    "#     [\n",
    "#         [[],[],[],[],[]],\n",
    "#         [[],[],[],[],[]]\n",
    "#     ],\n",
    "\n",
    "#     [\n",
    "#         [[],[],[],[],[]],\n",
    "#         [[],[],[],[],[]]\n",
    "#     ]\n",
    "    \n",
    "# ])\n",
    "# print(\"\\nNumber of dimensions:\", a.ndim)  # Output: 4\n"
   ]
  },
  {
   "cell_type": "code",
   "execution_count": 94,
   "id": "2557f6e5-6049-4ad3-a65d-0d2d3fd820bf",
   "metadata": {},
   "outputs": [],
   "source": [
    "# Okay i think I'm seeing some skeleton of some sort\n",
    "\n",
    "\n",
    "# One (1) Dimension\n",
    "#        []\n",
    "\n",
    "\n",
    "\n",
    "\n",
    "# Two  (2) Dimension\n",
    "#      [\n",
    "#         [It doesn't matter the number of lists in here, it still gives 2D impression] \n",
    "#      ]\n",
    "\n",
    "\n",
    "\n",
    "\n",
    "\n",
    "\n",
    "\n",
    "# Three  (3) Dimension\n",
    "#        [\n",
    "#            [[]],\n",
    "#            [[]],\n",
    "#            [[]],\n",
    "#            [[]]\n",
    "#        ]\n",
    "\n",
    "\n",
    "\n",
    "\n",
    "\n",
    "\n",
    "\n",
    "# Four   (4)  Dimension\n",
    "            # ([\n",
    "            \n",
    "            #     [\n",
    "            #         [[],[],[],[]],\n",
    "            #         [[],[],[],[]]\n",
    "            #     ],\n",
    "            \n",
    "            #     [\n",
    "            #         [[],[],[],[]],\n",
    "            #         [[],[],[],[]]\n",
    "            #     ]\n",
    "                \n",
    "            # ])"
   ]
  },
  {
   "cell_type": "code",
   "execution_count": null,
   "id": "3165cc87-7b87-4534-8b04-b20a4c4d7dd3",
   "metadata": {},
   "outputs": [],
   "source": []
  }
 ],
 "metadata": {
  "kernelspec": {
   "display_name": "Python 3 (ipykernel)",
   "language": "python",
   "name": "python3"
  },
  "language_info": {
   "codemirror_mode": {
    "name": "ipython",
    "version": 3
   },
   "file_extension": ".py",
   "mimetype": "text/x-python",
   "name": "python",
   "nbconvert_exporter": "python",
   "pygments_lexer": "ipython3",
   "version": "3.11.5"
  }
 },
 "nbformat": 4,
 "nbformat_minor": 5
}
