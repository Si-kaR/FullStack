{
 "cells": [
  {
   "cell_type": "code",
   "execution_count": 3,
   "id": "9e75417e-e9e2-40ef-97fd-658b3e69d2cd",
   "metadata": {},
   "outputs": [],
   "source": [
    "import numpy as np"
   ]
  },
  {
   "cell_type": "code",
   "execution_count": 7,
   "id": "bb032b63-2c01-47e4-9410-85f126b89a54",
   "metadata": {},
   "outputs": [
    {
     "name": "stdout",
     "output_type": "stream",
     "text": [
      "Number of dimension 1\n"
     ]
    }
   ],
   "source": [
    "a = np.array([1,23])\n",
    "print(\"Number of dimension\", a.ndim)"
   ]
  },
  {
   "cell_type": "code",
   "execution_count": 8,
   "id": "9320851e-0cb5-466f-a547-11ea43e4e2c6",
   "metadata": {},
   "outputs": [
    {
     "data": {
      "text/plain": [
       "24"
      ]
     },
     "execution_count": 8,
     "metadata": {},
     "output_type": "execute_result"
    }
   ],
   "source": [
    "np.sum(a)"
   ]
  },
  {
   "cell_type": "code",
   "execution_count": 9,
   "id": "bedd88c3-95ee-4c14-a5e1-55bfeab1fff4",
   "metadata": {},
   "outputs": [
    {
     "data": {
      "text/plain": [
       "24"
      ]
     },
     "execution_count": 9,
     "metadata": {},
     "output_type": "execute_result"
    }
   ],
   "source": [
    "np.sum(a,axis=0)"
   ]
  },
  {
   "cell_type": "code",
   "execution_count": 10,
   "id": "3bdcb711-e2d7-45ac-94a8-ca94430476e7",
   "metadata": {},
   "outputs": [
    {
     "name": "stdout",
     "output_type": "stream",
     "text": [
      "Number of dimension 2\n"
     ]
    }
   ],
   "source": [
    "a = np.array([\n",
    "    [123,3,4],\n",
    "    [1, 4,5]\n",
    "])\n",
    "print(\"Number of dimension\", a.ndim)"
   ]
  },
  {
   "cell_type": "code",
   "execution_count": 11,
   "id": "61651fd9-6027-4fdf-be1b-bed7ffb7ea7e",
   "metadata": {},
   "outputs": [
    {
     "data": {
      "text/plain": [
       "array([130,  10])"
      ]
     },
     "execution_count": 11,
     "metadata": {},
     "output_type": "execute_result"
    }
   ],
   "source": [
    "np.sum(a,axis=1)"
   ]
  },
  {
   "cell_type": "code",
   "execution_count": 12,
   "id": "6a526dc2-f85c-4e0b-b3f1-6a050826ffd0",
   "metadata": {},
   "outputs": [
    {
     "name": "stdout",
     "output_type": "stream",
     "text": [
      "Number of dimension 4\n"
     ]
    }
   ],
   "source": [
    "a = np.array([\n",
    "    [\n",
    "        [[12,3,5],[7,8,3],[34,1,2],[4,2,1]]\n",
    "    ],\n",
    "    [\n",
    "        [[1,1,1],[1,1,1],[1,1,1],[1,1,1]\n",
    "    ]]\n",
    "])\n",
    "print(\"Number of dimension\", a.ndim)"
   ]
  },
  {
   "cell_type": "code",
   "execution_count": 13,
   "id": "ddaa9a7e-8cf5-4ff5-88d0-e3964af84874",
   "metadata": {},
   "outputs": [
    {
     "data": {
      "text/plain": [
       "94"
      ]
     },
     "execution_count": 13,
     "metadata": {},
     "output_type": "execute_result"
    }
   ],
   "source": [
    "np.sum(a)"
   ]
  },
  {
   "cell_type": "code",
   "execution_count": 15,
   "id": "8e1145e9-61dd-4c06-b5ac-ad4e08fbbfd7",
   "metadata": {},
   "outputs": [
    {
     "data": {
      "text/plain": [
       "array([[[[12,  3,  5],\n",
       "         [ 7,  8,  3],\n",
       "         [34,  1,  2],\n",
       "         [ 4,  2,  1]]],\n",
       "\n",
       "\n",
       "       [[[ 1,  1,  1],\n",
       "         [ 1,  1,  1],\n",
       "         [ 1,  1,  1],\n",
       "         [ 1,  1,  1]]]])"
      ]
     },
     "execution_count": 15,
     "metadata": {},
     "output_type": "execute_result"
    }
   ],
   "source": [
    "a"
   ]
  },
  {
   "cell_type": "code",
   "execution_count": 14,
   "id": "6bb57902-383e-43e0-9d89-7f40adf71c83",
   "metadata": {},
   "outputs": [
    {
     "data": {
      "text/plain": [
       "array([[[13,  4,  6],\n",
       "        [ 8,  9,  4],\n",
       "        [35,  2,  3],\n",
       "        [ 5,  3,  2]]])"
      ]
     },
     "execution_count": 14,
     "metadata": {},
     "output_type": "execute_result"
    }
   ],
   "source": [
    "np.sum(a,axis=0)"
   ]
  },
  {
   "cell_type": "code",
   "execution_count": 18,
   "id": "a5afd69f-65ab-4c6b-8ca6-cd13adb9e8e5",
   "metadata": {},
   "outputs": [
    {
     "data": {
      "text/plain": [
       "array([[[12,  3,  5],\n",
       "        [ 7,  8,  3],\n",
       "        [34,  1,  2],\n",
       "        [ 4,  2,  1]],\n",
       "\n",
       "       [[ 1,  1,  1],\n",
       "        [ 1,  1,  1],\n",
       "        [ 1,  1,  1],\n",
       "        [ 1,  1,  1]]])"
      ]
     },
     "execution_count": 18,
     "metadata": {},
     "output_type": "execute_result"
    }
   ],
   "source": [
    "np.sum(a,axis=1)"
   ]
  },
  {
   "cell_type": "code",
   "execution_count": 19,
   "id": "a9021709-c7cb-47c8-925a-c30af87883fa",
   "metadata": {},
   "outputs": [
    {
     "data": {
      "text/plain": [
       "array([[[13,  4,  6],\n",
       "        [ 8,  9,  4],\n",
       "        [35,  2,  3],\n",
       "        [ 5,  3,  2]]])"
      ]
     },
     "execution_count": 19,
     "metadata": {},
     "output_type": "execute_result"
    }
   ],
   "source": [
    "np.sum(a,axis=0)"
   ]
  },
  {
   "cell_type": "code",
   "execution_count": 20,
   "id": "c6698440-c72a-4e53-bfab-294606e58032",
   "metadata": {},
   "outputs": [
    {
     "data": {
      "text/plain": [
       "array([[[12,  3,  5],\n",
       "        [ 7,  8,  3],\n",
       "        [34,  1,  2],\n",
       "        [ 4,  2,  1]]])"
      ]
     },
     "execution_count": 20,
     "metadata": {},
     "output_type": "execute_result"
    }
   ],
   "source": [
    "np.prod(a,axis=0)"
   ]
  },
  {
   "cell_type": "code",
   "execution_count": 21,
   "id": "e5803d5c-52a7-4765-bc5e-956759631039",
   "metadata": {},
   "outputs": [
    {
     "data": {
      "text/plain": [
       "array([[[12,  3,  5],\n",
       "        [ 7,  8,  3],\n",
       "        [34,  1,  2],\n",
       "        [ 4,  2,  1]],\n",
       "\n",
       "       [[ 1,  1,  1],\n",
       "        [ 1,  1,  1],\n",
       "        [ 1,  1,  1],\n",
       "        [ 1,  1,  1]]])"
      ]
     },
     "execution_count": 21,
     "metadata": {},
     "output_type": "execute_result"
    }
   ],
   "source": [
    "np.prod(a,axis=1)"
   ]
  },
  {
   "cell_type": "code",
   "execution_count": 39,
   "id": "dd6eaa5a-fb7a-4b6e-b0ef-cbe70278ea17",
   "metadata": {},
   "outputs": [
    {
     "name": "stdout",
     "output_type": "stream",
     "text": [
      "Number of dimension 2\n"
     ]
    }
   ],
   "source": [
    "a = np.array([\n",
    "    [123,3,4,7,8,9,10],\n",
    "    [1, 6,5,12,20,30,40]\n",
    "])\n",
    "print(\"Number of dimension\", a.ndim)"
   ]
  },
  {
   "cell_type": "code",
   "execution_count": 40,
   "id": "32acc7bd-794b-4234-81c6-08149d826dbe",
   "metadata": {},
   "outputs": [
    {
     "data": {
      "text/plain": [
       "array([[123,   3,   4,   7,   8,   9,  10],\n",
       "       [  1,   6,   5,  12,  20,  30,  40]])"
      ]
     },
     "execution_count": 40,
     "metadata": {},
     "output_type": "execute_result"
    }
   ],
   "source": [
    "a"
   ]
  },
  {
   "cell_type": "code",
   "execution_count": 41,
   "id": "79ca1eff-88c1-463d-9ca1-05506466a3af",
   "metadata": {},
   "outputs": [
    {
     "data": {
      "text/plain": [
       "array([164, 114])"
      ]
     },
     "execution_count": 41,
     "metadata": {},
     "output_type": "execute_result"
    }
   ],
   "source": [
    "np.sum(a,axis=1)"
   ]
  },
  {
   "cell_type": "code",
   "execution_count": 42,
   "id": "9dc7ff5f-24ec-4cbe-bf3b-20555102fddc",
   "metadata": {},
   "outputs": [
    {
     "data": {
      "text/plain": [
       "array([124,   9,   9,  19,  28,  39,  50])"
      ]
     },
     "execution_count": 42,
     "metadata": {},
     "output_type": "execute_result"
    }
   ],
   "source": [
    "np.sum(a,axis=0)"
   ]
  },
  {
   "cell_type": "code",
   "execution_count": 43,
   "id": "15309abd-7ac0-487b-bdfe-31311e87cd32",
   "metadata": {},
   "outputs": [
    {
     "data": {
      "text/plain": [
       "array([7439040, 8640000])"
      ]
     },
     "execution_count": 43,
     "metadata": {},
     "output_type": "execute_result"
    }
   ],
   "source": [
    "np.prod(a,axis=1)"
   ]
  },
  {
   "cell_type": "code",
   "execution_count": 44,
   "id": "db237703-2d52-4b35-96dc-b2298cca8d88",
   "metadata": {},
   "outputs": [
    {
     "data": {
      "text/plain": [
       "array([123,  18,  20,  84, 160, 270, 400])"
      ]
     },
     "execution_count": 44,
     "metadata": {},
     "output_type": "execute_result"
    }
   ],
   "source": [
    "np.prod(a,axis=0)"
   ]
  },
  {
   "cell_type": "code",
   "execution_count": 45,
   "id": "73296300-9a70-421e-a24f-4d33111c6c5d",
   "metadata": {},
   "outputs": [
    {
     "data": {
      "text/plain": [
       "array([10, 40])"
      ]
     },
     "execution_count": 45,
     "metadata": {},
     "output_type": "execute_result"
    }
   ],
   "source": [
    "a[:,-1]"
   ]
  },
  {
   "cell_type": "code",
   "execution_count": 50,
   "id": "435bcbf3-6b76-40b3-a9e0-4f8a8bb2e724",
   "metadata": {},
   "outputs": [
    {
     "data": {
      "text/plain": [
       "array([ 1,  6,  5, 12, 20, 30, 40])"
      ]
     },
     "execution_count": 50,
     "metadata": {},
     "output_type": "execute_result"
    }
   ],
   "source": [
    "a[1]"
   ]
  },
  {
   "cell_type": "code",
   "execution_count": 51,
   "id": "851d8c5a-4787-4474-b459-a630e8f92ece",
   "metadata": {},
   "outputs": [
    {
     "data": {
      "text/plain": [
       "array([123,   3,   4,   7,   8,   9,  10])"
      ]
     },
     "execution_count": 51,
     "metadata": {},
     "output_type": "execute_result"
    }
   ],
   "source": [
    "a[0]"
   ]
  },
  {
   "cell_type": "code",
   "execution_count": 52,
   "id": "97f6c3c5-33dc-4fb0-a20d-d7ae72b653af",
   "metadata": {},
   "outputs": [
    {
     "data": {
      "text/plain": [
       "array([123,   1])"
      ]
     },
     "execution_count": 52,
     "metadata": {},
     "output_type": "execute_result"
    }
   ],
   "source": [
    "a[:,0]"
   ]
  },
  {
   "cell_type": "code",
   "execution_count": 56,
   "id": "5858b030-a332-4aca-bd2b-58a456ff56c5",
   "metadata": {},
   "outputs": [
    {
     "data": {
      "text/plain": [
       "array([[123,   4],\n",
       "       [  1,   5]])"
      ]
     },
     "execution_count": 56,
     "metadata": {},
     "output_type": "execute_result"
    }
   ],
   "source": [
    "a[:,0:3:2]"
   ]
  },
  {
   "cell_type": "code",
   "execution_count": null,
   "id": "ba644a27-4e84-4085-9464-bca111ea1ade",
   "metadata": {},
   "outputs": [],
   "source": []
  }
 ],
 "metadata": {
  "kernelspec": {
   "display_name": "Python 3 (ipykernel)",
   "language": "python",
   "name": "python3"
  },
  "language_info": {
   "codemirror_mode": {
    "name": "ipython",
    "version": 3
   },
   "file_extension": ".py",
   "mimetype": "text/x-python",
   "name": "python",
   "nbconvert_exporter": "python",
   "pygments_lexer": "ipython3",
   "version": "3.11.5"
  }
 },
 "nbformat": 4,
 "nbformat_minor": 5
}
