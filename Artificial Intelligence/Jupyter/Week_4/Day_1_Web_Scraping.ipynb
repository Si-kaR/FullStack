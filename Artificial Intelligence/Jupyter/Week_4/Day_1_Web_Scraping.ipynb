{
 "cells": [
  {
   "cell_type": "code",
   "execution_count": 52,
   "id": "c50619d3-7986-4283-9fcc-9b32808d61eb",
   "metadata": {},
   "outputs": [],
   "source": [
    "import requests"
   ]
  },
  {
   "cell_type": "code",
   "execution_count": 53,
   "id": "56f7eb06-4f24-4c0a-a56a-7087478f2fe4",
   "metadata": {},
   "outputs": [
    {
     "data": {
      "text/plain": [
       "200"
      ]
     },
     "execution_count": 53,
     "metadata": {},
     "output_type": "execute_result"
    }
   ],
   "source": [
    "web=requests.get('http://dataquestio.github.io/web-scraping-pages/simple.html')\n",
    "web.status_code"
   ]
  },
  {
   "cell_type": "code",
   "execution_count": 54,
   "id": "5196b7ac-4b0a-4fe3-befc-ddbb6a853e64",
   "metadata": {},
   "outputs": [
    {
     "data": {
      "text/plain": [
       "b'<!DOCTYPE html>\\n<html>\\n    <head>\\n        <title>A simple example page</title>\\n    </head>\\n    <body>\\n        <p>Here is some simple content for this page.</p>\\n    </body>\\n</html>'"
      ]
     },
     "execution_count": 54,
     "metadata": {},
     "output_type": "execute_result"
    }
   ],
   "source": [
    "web.content"
   ]
  },
  {
   "cell_type": "code",
   "execution_count": 55,
   "id": "81a52641-14b0-4355-b0ff-dba5a1d50017",
   "metadata": {},
   "outputs": [],
   "source": [
    "from bs4 import BeautifulSoup"
   ]
  },
  {
   "cell_type": "code",
   "execution_count": 56,
   "id": "7d854e05-8c60-466a-b513-b939c501f4f1",
   "metadata": {},
   "outputs": [],
   "source": [
    "nice_web=BeautifulSoup(web.content, 'html.parser')"
   ]
  },
  {
   "cell_type": "raw",
   "id": "15e41f6a-927d-420a-bc18-1d40b4ee7d1c",
   "metadata": {},
   "source": [
    "print(nice_web.prettify())"
   ]
  },
  {
   "cell_type": "code",
   "execution_count": 91,
   "id": "b238c9d3-7808-466f-8aa3-e5382ae00780",
   "metadata": {},
   "outputs": [],
   "source": [
    "# nice_web"
   ]
  },
  {
   "cell_type": "code",
   "execution_count": 58,
   "id": "5305db69-5822-4239-af4f-a89ee46e925e",
   "metadata": {},
   "outputs": [
    {
     "data": {
      "text/plain": [
       "'A simple example page'"
      ]
     },
     "execution_count": 58,
     "metadata": {},
     "output_type": "execute_result"
    }
   ],
   "source": [
    "page.find('title').get_text()"
   ]
  },
  {
   "cell_type": "code",
   "execution_count": 59,
   "id": "971b5346-bd04-4da9-9783-37543b92c14d",
   "metadata": {},
   "outputs": [
    {
     "data": {
      "text/plain": [
       "'\\nA simple example page\\n'"
      ]
     },
     "execution_count": 59,
     "metadata": {},
     "output_type": "execute_result"
    }
   ],
   "source": [
    "page.find('head').get_text()"
   ]
  },
  {
   "cell_type": "code",
   "execution_count": 60,
   "id": "153ff6b8-5c4f-46fd-a8a5-372b8493d2a7",
   "metadata": {},
   "outputs": [
    {
     "data": {
      "text/plain": [
       "'Here is some simple content for this page.'"
      ]
     },
     "execution_count": 60,
     "metadata": {},
     "output_type": "execute_result"
    }
   ],
   "source": [
    "page.find('p').get_text()"
   ]
  },
  {
   "cell_type": "code",
   "execution_count": null,
   "id": "b352bbd2-d5e9-4076-bc84-541441fe529a",
   "metadata": {},
   "outputs": [],
   "source": []
  },
  {
   "cell_type": "code",
   "execution_count": 61,
   "id": "0003d107-12c1-41ab-a06c-d8991e294cf0",
   "metadata": {},
   "outputs": [],
   "source": [
    "first = []\n",
    "for i in nice_web.find_all('inner-text'):\n",
    "    first.append(i.get_text().strip())\n",
    "    \n",
    "    first\n",
    "    print(\"\\n\", first)"
   ]
  },
  {
   "cell_type": "code",
   "execution_count": 62,
   "id": "6dcb015b-43eb-4d6a-a63c-7031e296aea6",
   "metadata": {},
   "outputs": [
    {
     "data": {
      "text/plain": [
       "[]"
      ]
     },
     "execution_count": 62,
     "metadata": {},
     "output_type": "execute_result"
    }
   ],
   "source": [
    "first\n"
   ]
  },
  {
   "cell_type": "code",
   "execution_count": 65,
   "id": "bce70629-590b-4197-ae26-4a38fce81ffc",
   "metadata": {},
   "outputs": [
    {
     "data": {
      "text/plain": [
       "200"
      ]
     },
     "execution_count": 65,
     "metadata": {},
     "output_type": "execute_result"
    }
   ],
   "source": [
    "weather_web = requests.get('https://forecast.weather.gov/MapClick.php?lat=37.7772&lon=-122.4168#.XzpnT3UvNuQ')\n",
    "weather_web.status_code"
   ]
  },
  {
   "cell_type": "code",
   "execution_count": 92,
   "id": "1d47d3b9-8a67-4894-abb8-25e398c7cbba",
   "metadata": {},
   "outputs": [],
   "source": [
    "# weather_web.content"
   ]
  },
  {
   "cell_type": "code",
   "execution_count": 86,
   "id": "3777de11-18b1-4fb3-afa6-19aac8059c89",
   "metadata": {},
   "outputs": [],
   "source": [
    "nice_weather_web = BeautifulSoup(weather_web.content, 'html.parser')\n",
    "\n",
    "# BeautifulSoup(web.content, 'html.parser')\n",
    "# nice_weather_web"
   ]
  },
  {
   "cell_type": "code",
   "execution_count": null,
   "id": "5fd842d2-93d2-4733-a42d-6b86a2c7725b",
   "metadata": {},
   "outputs": [],
   "source": [
    "\n",
    "\n",
    "\n",
    "\n",
    "\n",
    "\n",
    "\n",
    "\n",
    "\n",
    "\n",
    "\n",
    "\n",
    "\n",
    "\n",
    "\n",
    "\n",
    "\n",
    "\n",
    "\n",
    "\n",
    "\n",
    "\n",
    "\n",
    "\n",
    "\n",
    "\n",
    "\n"
   ]
  },
  {
   "cell_type": "code",
   "execution_count": 85,
   "id": "b2c83098-6ece-4cae-b8b8-8eb13490d5d6",
   "metadata": {},
   "outputs": [
    {
     "data": {
      "text/plain": [
       "200"
      ]
     },
     "execution_count": 85,
     "metadata": {},
     "output_type": "execute_result"
    }
   ],
   "source": [
    "web_page = requests.get('https://app.mystudylife.com/calendar')\n",
    "web_page.status_code"
   ]
  },
  {
   "cell_type": "code",
   "execution_count": 84,
   "id": "46ae9db9-eb5b-469f-9b0e-eb1d171cc5ff",
   "metadata": {},
   "outputs": [],
   "source": [
    "# web_page.content\n",
    "\n",
    "#Uncomment the line above to see the output"
   ]
  },
  {
   "cell_type": "code",
   "execution_count": 87,
   "id": "31f64649-1441-4e80-a6d2-723e39068e03",
   "metadata": {},
   "outputs": [],
   "source": [
    "nice_web_page = BeautifulSoup(web_page.content, 'html.parser')\n"
   ]
  },
  {
   "cell_type": "code",
   "execution_count": 89,
   "id": "7fb16f51-236d-4b10-9e74-47298f356130",
   "metadata": {},
   "outputs": [],
   "source": [
    "# nice_web_page"
   ]
  },
  {
   "cell_type": "code",
   "execution_count": null,
   "id": "785bbf2b-896b-476f-ae56-075f77e8244d",
   "metadata": {},
   "outputs": [],
   "source": [
    "\n",
    "\n",
    "\n",
    "\n",
    "\n",
    "\n",
    "\n",
    "\n",
    "\n",
    "\n",
    "\n",
    "\n",
    "\n",
    "\n",
    "\n",
    "\n",
    "\n",
    "\n",
    "\n",
    "\n",
    "\n",
    "\n"
   ]
  },
  {
   "cell_type": "code",
   "execution_count": 99,
   "id": "dfb5a965-d69b-4b24-8afd-1294ecac28d4",
   "metadata": {},
   "outputs": [
    {
     "data": {
      "text/plain": [
       "200"
      ]
     },
     "execution_count": 99,
     "metadata": {},
     "output_type": "execute_result"
    }
   ],
   "source": [
    "animeTake_page = requests.get('https://animetake.tv/')\n",
    "animeTake_page.status_code"
   ]
  },
  {
   "cell_type": "code",
   "execution_count": 101,
   "id": "9f6faeeb-6893-43fc-b3ae-43aae5f54c3a",
   "metadata": {},
   "outputs": [],
   "source": [
    "# animeTake_page.content"
   ]
  },
  {
   "cell_type": "code",
   "execution_count": 103,
   "id": "9bf8623b-fccc-4f17-8246-1802e92bb257",
   "metadata": {},
   "outputs": [],
   "source": [
    "# from bs4 from BeautifulSoup\n",
    "nice_animeTake_page = BeautifulSoup(animeTake_page.content, 'html.parser')\n",
    "# nice_animeTake_page"
   ]
  },
  {
   "cell_type": "code",
   "execution_count": null,
   "id": "4ebe9560-3066-40ec-bba7-31c5c6bc3f98",
   "metadata": {},
   "outputs": [],
   "source": []
  }
 ],
 "metadata": {
  "kernelspec": {
   "display_name": "Python 3 (ipykernel)",
   "language": "python",
   "name": "python3"
  },
  "language_info": {
   "codemirror_mode": {
    "name": "ipython",
    "version": 3
   },
   "file_extension": ".py",
   "mimetype": "text/x-python",
   "name": "python",
   "nbconvert_exporter": "python",
   "pygments_lexer": "ipython3",
   "version": "3.11.5"
  }
 },
 "nbformat": 4,
 "nbformat_minor": 5
}
