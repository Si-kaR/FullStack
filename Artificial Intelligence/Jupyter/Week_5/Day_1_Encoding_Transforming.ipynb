{
 "cells": [
  {
   "cell_type": "code",
   "execution_count": 122,
   "id": "b1e7e8b3-e580-4069-979e-4c8211035e2e",
   "metadata": {},
   "outputs": [],
   "source": [
    "from sklearn.impute import SimpleImputer  # To replace missing values maybe as Nan\n",
    "import pandas as pd\n",
    "import numpy as np\n",
    "from numpy import array\n",
    "from sklearn.preprocessing import LabelEncoder, OneHotEncoder"
   ]
  },
  {
   "cell_type": "code",
   "execution_count": 123,
   "id": "95e2924b-c0bd-47dc-a577-4f4418f14190",
   "metadata": {},
   "outputs": [
    {
     "data": {
      "text/plain": [
       "['warm', 'hot', 'cold', 'luke warm', 'hot', 'cold', 'warm']"
      ]
     },
     "execution_count": 123,
     "metadata": {},
     "output_type": "execute_result"
    }
   ],
   "source": [
    "temperature_data_names = ['warm','hot','cold','luke warm','hot','cold','warm']\n",
    "\n",
    "temperature_data_names"
   ]
  },
  {
   "cell_type": "code",
   "execution_count": 124,
   "id": "7e38ed6c-b726-456b-bf97-82abc5fbf57b",
   "metadata": {},
   "outputs": [
    {
     "data": {
      "text/plain": [
       "array([3, 1, 0, 2, 1, 0, 3])"
      ]
     },
     "execution_count": 124,
     "metadata": {},
     "output_type": "execute_result"
    }
   ],
   "source": [
    "#Label Encoding\n",
    "label_encoder = LabelEncoder()\n",
    "integer_encoded = label_encoder.fit_transform(temperature_data_names)\n",
    "integer_encoded"
   ]
  },
  {
   "cell_type": "code",
   "execution_count": 125,
   "id": "593302cb-6097-4dbe-9c30-267ee677b7c3",
   "metadata": {},
   "outputs": [
    {
     "data": {
      "text/plain": [
       "array([[3],\n",
       "       [1],\n",
       "       [0],\n",
       "       [2],\n",
       "       [1],\n",
       "       [0],\n",
       "       [3]])"
      ]
     },
     "execution_count": 125,
     "metadata": {},
     "output_type": "execute_result"
    }
   ],
   "source": [
    "integer_encoded = integer_encoded.reshape(len(integer_encoded), 1)\n",
    "integer_encoded"
   ]
  },
  {
   "cell_type": "code",
   "execution_count": 126,
   "id": "f3602f09-3d47-4361-bf5e-b2996d9a9d69",
   "metadata": {},
   "outputs": [
    {
     "name": "stderr",
     "output_type": "stream",
     "text": [
      "/home/griphen/.local/lib/python3.11/site-packages/sklearn/preprocessing/_encoders.py:975: FutureWarning: `sparse` was renamed to `sparse_output` in version 1.2 and will be removed in 1.4. `sparse_output` is ignored unless you leave `sparse` to its default value.\n",
      "  warnings.warn(\n"
     ]
    },
    {
     "data": {
      "text/plain": [
       "array([[0., 0., 0., 1.],\n",
       "       [0., 1., 0., 0.],\n",
       "       [1., 0., 0., 0.],\n",
       "       [0., 0., 1., 0.],\n",
       "       [0., 1., 0., 0.],\n",
       "       [1., 0., 0., 0.],\n",
       "       [0., 0., 0., 1.]])"
      ]
     },
     "execution_count": 126,
     "metadata": {},
     "output_type": "execute_result"
    }
   ],
   "source": [
    "onehot_encoder = OneHotEncoder(sparse=False)\n",
    "onehot_encoded = onehot_encoder.fit_transform(integer_encoded)\n",
    "onehot_encoded"
   ]
  },
  {
   "cell_type": "code",
   "execution_count": 127,
   "id": "d74e41b5-d902-4e48-b171-fc4c147bb2be",
   "metadata": {},
   "outputs": [
    {
     "name": "stdout",
     "output_type": "stream",
     "text": [
      "[[0. 0. 0. 1.]\n",
      " [0. 1. 0. 0.]\n",
      " [1. 0. 0. 0.]\n",
      " [0. 0. 1. 0.]\n",
      " [0. 1. 0. 0.]\n",
      " [1. 0. 0. 0.]\n",
      " [0. 0. 0. 1.]]\n"
     ]
    }
   ],
   "source": [
    "print(onehot_encoded)"
   ]
  },
  {
   "cell_type": "code",
   "execution_count": null,
   "id": "5d003d36-dd50-4441-bd51-bea715536306",
   "metadata": {},
   "outputs": [],
   "source": [
    "\n",
    "\n",
    "\n",
    "\n",
    "\n",
    "\n",
    "\n",
    "\n",
    "\n",
    "\n",
    "\n",
    "\n",
    "\n",
    "\n"
   ]
  },
  {
   "cell_type": "code",
   "execution_count": null,
   "id": "af46043f-4705-467a-88e8-e0e9183e7b74",
   "metadata": {},
   "outputs": [],
   "source": []
  },
  {
   "cell_type": "code",
   "execution_count": null,
   "id": "4d768629-9262-4587-b3f3-810240637782",
   "metadata": {},
   "outputs": [],
   "source": []
  },
  {
   "cell_type": "code",
   "execution_count": null,
   "id": "2ed03578-11e2-4950-ac5f-ecdd2cb5723d",
   "metadata": {},
   "outputs": [],
   "source": []
  },
  {
   "cell_type": "code",
   "execution_count": 128,
   "id": "456946fc-9854-4a33-90f3-0a14fc26218b",
   "metadata": {},
   "outputs": [
    {
     "data": {
      "text/plain": [
       "['slim',\n",
       " 'petite',\n",
       " 'average',\n",
       " 'athletic',\n",
       " 'muscular',\n",
       " 'curvy',\n",
       " 'fat',\n",
       " 'curvy',\n",
       " 'muscular',\n",
       " 'athletic',\n",
       " 'average',\n",
       " 'petite',\n",
       " 'slim']"
      ]
     },
     "execution_count": 128,
     "metadata": {},
     "output_type": "execute_result"
    }
   ],
   "source": [
    "body_types = ['slim', 'petite', 'average', 'athletic', 'muscular', 'curvy', 'fat', 'curvy', 'muscular', 'athletic', 'average', 'petite', 'slim']\n",
    "body_types"
   ]
  },
  {
   "cell_type": "code",
   "execution_count": 129,
   "id": "f26d4b52-edee-48b3-ade2-35fc9a406d47",
   "metadata": {},
   "outputs": [
    {
     "data": {
      "text/plain": [
       "array([6, 5, 1, 0, 4, 2, 3, 2, 4, 0, 1, 5, 6])"
      ]
     },
     "execution_count": 129,
     "metadata": {},
     "output_type": "execute_result"
    }
   ],
   "source": [
    "body_type_encoder = LabelEncoder()\n",
    "body_type_encoded = body_size_encoder.fit_transform(body_types)\n",
    "body_type_encoded"
   ]
  },
  {
   "cell_type": "code",
   "execution_count": 130,
   "id": "1768473c-38a3-4c15-aad4-f7983c93b5df",
   "metadata": {},
   "outputs": [
    {
     "data": {
      "text/plain": [
       "array([[6],\n",
       "       [5],\n",
       "       [1],\n",
       "       [0],\n",
       "       [4],\n",
       "       [2],\n",
       "       [3],\n",
       "       [2],\n",
       "       [4],\n",
       "       [0],\n",
       "       [1],\n",
       "       [5],\n",
       "       [6]])"
      ]
     },
     "execution_count": 130,
     "metadata": {},
     "output_type": "execute_result"
    }
   ],
   "source": [
    "body_type_encoded = body_type_encoded.reshape(len(body_type_encoded), 1)\n",
    "body_type_encoded"
   ]
  },
  {
   "cell_type": "code",
   "execution_count": 131,
   "id": "7211eaf6-7e73-425b-a821-1a13b455a6f2",
   "metadata": {},
   "outputs": [
    {
     "name": "stderr",
     "output_type": "stream",
     "text": [
      "/home/griphen/.local/lib/python3.11/site-packages/sklearn/preprocessing/_encoders.py:975: FutureWarning: `sparse` was renamed to `sparse_output` in version 1.2 and will be removed in 1.4. `sparse_output` is ignored unless you leave `sparse` to its default value.\n",
      "  warnings.warn(\n"
     ]
    },
    {
     "data": {
      "text/plain": [
       "array([[0., 0., 0., 0., 0., 0., 1.],\n",
       "       [0., 0., 0., 0., 0., 1., 0.],\n",
       "       [0., 1., 0., 0., 0., 0., 0.],\n",
       "       [1., 0., 0., 0., 0., 0., 0.],\n",
       "       [0., 0., 0., 0., 1., 0., 0.],\n",
       "       [0., 0., 1., 0., 0., 0., 0.],\n",
       "       [0., 0., 0., 1., 0., 0., 0.],\n",
       "       [0., 0., 1., 0., 0., 0., 0.],\n",
       "       [0., 0., 0., 0., 1., 0., 0.],\n",
       "       [1., 0., 0., 0., 0., 0., 0.],\n",
       "       [0., 1., 0., 0., 0., 0., 0.],\n",
       "       [0., 0., 0., 0., 0., 1., 0.],\n",
       "       [0., 0., 0., 0., 0., 0., 1.]])"
      ]
     },
     "execution_count": 131,
     "metadata": {},
     "output_type": "execute_result"
    }
   ],
   "source": [
    "bodytype_onehotEncoder = OneHotEncoder(sparse=False)\n",
    "bodytype_onehotEncoded = bodytype_onehotEncoder.fit_transform(body_type_encoded)\n",
    "bodytype_onehotEncoded"
   ]
  },
  {
   "cell_type": "code",
   "execution_count": 132,
   "id": "d7b5821e-c637-4ea3-b096-c66b82655682",
   "metadata": {},
   "outputs": [
    {
     "name": "stdout",
     "output_type": "stream",
     "text": [
      "[[0. 0. 0. 0. 0. 0. 1.]\n",
      " [0. 0. 0. 0. 0. 1. 0.]\n",
      " [0. 1. 0. 0. 0. 0. 0.]\n",
      " [1. 0. 0. 0. 0. 0. 0.]\n",
      " [0. 0. 0. 0. 1. 0. 0.]\n",
      " [0. 0. 1. 0. 0. 0. 0.]\n",
      " [0. 0. 0. 1. 0. 0. 0.]\n",
      " [0. 0. 1. 0. 0. 0. 0.]\n",
      " [0. 0. 0. 0. 1. 0. 0.]\n",
      " [1. 0. 0. 0. 0. 0. 0.]\n",
      " [0. 1. 0. 0. 0. 0. 0.]\n",
      " [0. 0. 0. 0. 0. 1. 0.]\n",
      " [0. 0. 0. 0. 0. 0. 1.]]\n"
     ]
    }
   ],
   "source": [
    "print(bodytype_onehotEncoded)"
   ]
  },
  {
   "cell_type": "code",
   "execution_count": 133,
   "id": "48991da6-3457-4022-9647-3514369848f8",
   "metadata": {},
   "outputs": [
    {
     "data": {
      "text/plain": [
       "['Apple', 'Banana', 'Cherry', 'Damsen', 'Cherry', 'Banana', 'Apple']"
      ]
     },
     "execution_count": 133,
     "metadata": {},
     "output_type": "execute_result"
    }
   ],
   "source": [
    "fruits = ['Apple', 'Banana', 'Cherry', 'Damsen', 'Cherry', 'Banana', 'Apple']\n",
    "fruits"
   ]
  },
  {
   "cell_type": "code",
   "execution_count": 134,
   "id": "910d7ecb-946e-43ee-ae4f-2d65b838c8f8",
   "metadata": {},
   "outputs": [
    {
     "data": {
      "text/plain": [
       "array([0, 1, 2, 3, 2, 1, 0])"
      ]
     },
     "execution_count": 134,
     "metadata": {},
     "output_type": "execute_result"
    }
   ],
   "source": [
    "fruit_label_encoder = LabelEncoder()\n",
    "fruit_label_encoded = fruit_label_encoder.fit_transform(fruits)\n",
    "fruit_label_encoded"
   ]
  },
  {
   "cell_type": "code",
   "execution_count": 135,
   "id": "bfbf23ac-67fa-4d9f-96c0-d2fc43185052",
   "metadata": {},
   "outputs": [
    {
     "data": {
      "text/plain": [
       "array([[0],\n",
       "       [1],\n",
       "       [2],\n",
       "       [3],\n",
       "       [2],\n",
       "       [1],\n",
       "       [0]])"
      ]
     },
     "execution_count": 135,
     "metadata": {},
     "output_type": "execute_result"
    }
   ],
   "source": [
    "fruit_label_encoded = fruit_label_encoded.reshape(len(fruit_label_encoded), 1)\n",
    "fruit_label_encoded"
   ]
  },
  {
   "cell_type": "code",
   "execution_count": 136,
   "id": "916904fa-68ad-4878-83d4-f7449f6d7b61",
   "metadata": {},
   "outputs": [
    {
     "name": "stderr",
     "output_type": "stream",
     "text": [
      "/home/griphen/.local/lib/python3.11/site-packages/sklearn/preprocessing/_encoders.py:975: FutureWarning: `sparse` was renamed to `sparse_output` in version 1.2 and will be removed in 1.4. `sparse_output` is ignored unless you leave `sparse` to its default value.\n",
      "  warnings.warn(\n"
     ]
    },
    {
     "data": {
      "text/plain": [
       "array([[1., 0., 0., 0.],\n",
       "       [0., 1., 0., 0.],\n",
       "       [0., 0., 1., 0.],\n",
       "       [0., 0., 0., 1.],\n",
       "       [0., 0., 1., 0.],\n",
       "       [0., 1., 0., 0.],\n",
       "       [1., 0., 0., 0.]])"
      ]
     },
     "execution_count": 136,
     "metadata": {},
     "output_type": "execute_result"
    }
   ],
   "source": [
    "fruit_onehot_encoder = OneHotEncoder(sparse=False)\n",
    "fruit_onehot_encoded = fruit_onehot_encoder.fit_transform(fruit_label_encoded)\n",
    "fruit_onehot_encoded"
   ]
  },
  {
   "cell_type": "code",
   "execution_count": 137,
   "id": "803a0cad-4037-4bdd-b76b-6c7d901e317b",
   "metadata": {},
   "outputs": [
    {
     "name": "stdout",
     "output_type": "stream",
     "text": [
      "[[1. 0. 0. 0.]\n",
      " [0. 1. 0. 0.]\n",
      " [0. 0. 1. 0.]\n",
      " [0. 0. 0. 1.]\n",
      " [0. 0. 1. 0.]\n",
      " [0. 1. 0. 0.]\n",
      " [1. 0. 0. 0.]]\n"
     ]
    }
   ],
   "source": [
    "print(fruit_onehot_encoded)"
   ]
  },
  {
   "cell_type": "code",
   "execution_count": null,
   "id": "b54ab133-a5f9-4c85-9659-489d320fe23b",
   "metadata": {},
   "outputs": [],
   "source": [
    "\n",
    "\n",
    "\n",
    "\n",
    "\n",
    "\n",
    "\n",
    "\n",
    "\n",
    "\n",
    "\n",
    "\n",
    "\n",
    "\n",
    "\n",
    "\n",
    "\n",
    "\n",
    "\n",
    "\n",
    "\n",
    "\n",
    "\n",
    "\n",
    "\n",
    "\n",
    "\n",
    "\n",
    "\n",
    "\n",
    "\n",
    "\n",
    "\n",
    "\n",
    "\n",
    "\n",
    "\n",
    "\n",
    "\n",
    "\n",
    "\n",
    "\n",
    "\n",
    "\n",
    "\n",
    "\n",
    "\n",
    "\n"
   ]
  },
  {
   "cell_type": "code",
   "execution_count": 138,
   "id": "3020a973-e5d1-4af0-bac7-80468bf1c85f",
   "metadata": {},
   "outputs": [],
   "source": [
    "# our final go at OneHot and Label Encoding\n",
    "growth = [\n",
    "    'Birth',\n",
    "    'Infancy',\n",
    "    'Toddler',\n",
    "    'Childhood',\n",
    "    'Adolescence',\n",
    "    'Adulthood',\n",
    "    'Old Age',\n",
    "    'Adulthood',\n",
    "    'Adolescence',\n",
    "    'Childhood',\n",
    "    'Toddler',\n",
    "    'Infancy',\n",
    "    'Birth'\n",
    "]\n"
   ]
  },
  {
   "cell_type": "code",
   "execution_count": 139,
   "id": "423008a1-cfb0-4df0-93d5-a226b04b11b4",
   "metadata": {},
   "outputs": [
    {
     "name": "stdout",
     "output_type": "stream",
     "text": [
      "[[0. 0. 1. 0. 0. 0. 0.]\n",
      " [0. 0. 0. 0. 1. 0. 0.]\n",
      " [0. 0. 0. 0. 0. 0. 1.]\n",
      " [0. 0. 0. 1. 0. 0. 0.]\n",
      " [1. 0. 0. 0. 0. 0. 0.]\n",
      " [0. 1. 0. 0. 0. 0. 0.]\n",
      " [0. 0. 0. 0. 0. 1. 0.]\n",
      " [0. 1. 0. 0. 0. 0. 0.]\n",
      " [1. 0. 0. 0. 0. 0. 0.]\n",
      " [0. 0. 0. 1. 0. 0. 0.]\n",
      " [0. 0. 0. 0. 0. 0. 1.]\n",
      " [0. 0. 0. 0. 1. 0. 0.]\n",
      " [0. 0. 1. 0. 0. 0. 0.]]\n"
     ]
    }
   ],
   "source": [
    "growth_label_encoder = LabelEncoder()\n",
    "growth_label_encoded = growth_label_encoder.fit_transform(growth)\n",
    "growth_label_encoded = growth_label_encoded.reshape(len(growth_label_encoded), 1)\n",
    "\n",
    "growth_onehot_encoder = OneHotEncoder(sparse_output=False)\n",
    "growth_onehot_encoded = growth_onehot_encoder.fit_transform(growth_label_encoded)\n",
    "\n",
    "print(growth_onehot_encoded)"
   ]
  },
  {
   "cell_type": "code",
   "execution_count": 140,
   "id": "1c33a732-002d-4746-8d8d-edaec652ffbc",
   "metadata": {},
   "outputs": [],
   "source": [
    "#################################################################\n",
    "\n",
    "# I caan say I have semi mastered it now, but now I have to become more familiar with the reverse as well"
   ]
  },
  {
   "cell_type": "code",
   "execution_count": 141,
   "id": "975ae7e4-8022-44d1-8f42-8936b955f9c5",
   "metadata": {},
   "outputs": [
    {
     "name": "stdout",
     "output_type": "stream",
     "text": [
      "['Birth']\n"
     ]
    }
   ],
   "source": [
    "inverted = growth_label_encoder.inverse_transform([np.argmax(growth_onehot_encoded[0, :])])\n",
    "print(inverted)"
   ]
  },
  {
   "cell_type": "code",
   "execution_count": 142,
   "id": "854dd75b-ff28-4dca-b5f0-bd80108b2068",
   "metadata": {},
   "outputs": [
    {
     "name": "stdout",
     "output_type": "stream",
     "text": [
      "['Infancy']\n"
     ]
    }
   ],
   "source": [
    "inverted = growth_label_encoder.inverse_transform([np.argmax(growth_onehot_encoded[1, :])])\n",
    "print(inverted)"
   ]
  },
  {
   "cell_type": "code",
   "execution_count": 143,
   "id": "8165d97e-0fb7-4364-a587-1a4268a7e1bf",
   "metadata": {},
   "outputs": [
    {
     "name": "stdout",
     "output_type": "stream",
     "text": [
      "['Adolescence']\n"
     ]
    }
   ],
   "source": [
    "inverted = growth_label_encoder.inverse_transform([np.argmax(growth_label_encoded[2, :])])\n",
    "print(inverted)"
   ]
  },
  {
   "cell_type": "code",
   "execution_count": 144,
   "id": "d5d30eb1-02c9-46ba-a525-eb3f9ab7e9ab",
   "metadata": {},
   "outputs": [
    {
     "name": "stdout",
     "output_type": "stream",
     "text": [
      "['Childhood']\n"
     ]
    }
   ],
   "source": [
    "inverted = growth_label_encoder.inverse_transform([np.argmax(growth_onehot_encoded[3, :])])\n",
    "print(inverted)"
   ]
  },
  {
   "cell_type": "code",
   "execution_count": 145,
   "id": "b81a852a-bbf0-44b2-8e9d-51e176cd5ac8",
   "metadata": {},
   "outputs": [
    {
     "name": "stdout",
     "output_type": "stream",
     "text": [
      "['Infancy']\n"
     ]
    }
   ],
   "source": [
    "inverted = growth_label_encoder.inverse_transform([np.argmax(growth_onehot_encoded[-2, :])])\n",
    "print(inverted)"
   ]
  },
  {
   "cell_type": "code",
   "execution_count": 146,
   "id": "132a700f-41ce-473f-886d-2df7967a3e1f",
   "metadata": {},
   "outputs": [
    {
     "name": "stdout",
     "output_type": "stream",
     "text": [
      "['Toddler']\n"
     ]
    }
   ],
   "source": [
    "inverted = growth_label_encoder.inverse_transform([np.argmax(growth_onehot_encoded[-3, :])])\n",
    "print(inverted)"
   ]
  },
  {
   "cell_type": "code",
   "execution_count": 147,
   "id": "f4fa3757-923c-4187-8ef3-27ff07821ae8",
   "metadata": {},
   "outputs": [
    {
     "name": "stdout",
     "output_type": "stream",
     "text": [
      "['Birth']\n"
     ]
    }
   ],
   "source": [
    "inverted = growth_label_encoder.inverse_transform([np.argmax(growth_onehot_encoded[12, :])])\n",
    "print(inverted)"
   ]
  },
  {
   "cell_type": "code",
   "execution_count": 148,
   "id": "e15c5db8-5381-4bfd-b191-00b1d7fdc66b",
   "metadata": {},
   "outputs": [
    {
     "name": "stdout",
     "output_type": "stream",
     "text": [
      "['Childhood']\n"
     ]
    }
   ],
   "source": [
    "inverted = growth_label_encoder.inverse_transform([np.argmax(growth_onehot_encoded[:, 3])])\n",
    "print(inverted)"
   ]
  },
  {
   "cell_type": "code",
   "execution_count": 149,
   "id": "68967409-ea9d-4bbd-8833-83956ce181fc",
   "metadata": {},
   "outputs": [
    {
     "name": "stdout",
     "output_type": "stream",
     "text": [
      "['Adulthood']\n"
     ]
    }
   ],
   "source": [
    "inverted = growth_label_encoder.inverse_transform([np.argmax(growth_onehot_encoded[:, 1:3])])\n",
    "print(inverted)"
   ]
  },
  {
   "cell_type": "code",
   "execution_count": 150,
   "id": "d71a768d-15ee-42a8-907d-8e79da54c830",
   "metadata": {},
   "outputs": [
    {
     "name": "stdout",
     "output_type": "stream",
     "text": [
      "['Birth']\n"
     ]
    }
   ],
   "source": [
    "inverted = growth_label_encoder.inverse_transform([np.argmax(growth_onehot_encoded[:, :])])\n",
    "print(inverted)"
   ]
  },
  {
   "cell_type": "code",
   "execution_count": null,
   "id": "6bf9a7f1-2c85-4203-a955-5c453476eae1",
   "metadata": {},
   "outputs": [],
   "source": []
  },
  {
   "cell_type": "code",
   "execution_count": null,
   "id": "05c9818a-bcb1-4f11-96c8-0a177f099bd5",
   "metadata": {},
   "outputs": [],
   "source": [
    "\n",
    "\n",
    "\n",
    "\n",
    "\n",
    "\n",
    "\n",
    "\n",
    "\n",
    "\n",
    "\n",
    "\n",
    "\n",
    "\n",
    "\n",
    "\n",
    "\n",
    "\n",
    "\n",
    "\n",
    "\n",
    "\n",
    "\n",
    "\n",
    "\n",
    "\n",
    "\n",
    "\n",
    "\n",
    "\n",
    "\n"
   ]
  },
  {
   "cell_type": "code",
   "execution_count": 151,
   "id": "e7ea3aac-0419-468d-906d-0d86c3416e90",
   "metadata": {},
   "outputs": [],
   "source": [
    "array =pd.DataFrame({'A':[12.0,np.nan,16,18,19,np.nan],\n",
    "                 'B':[np.nan,13,14,17,18,np.nan],\n",
    "                 'C':[14,np.nan,7,8,9,np.nan]})"
   ]
  },
  {
   "cell_type": "code",
   "execution_count": 152,
   "id": "45d546c7-bc80-4258-b637-82c1a756a4d8",
   "metadata": {},
   "outputs": [
    {
     "data": {
      "text/html": [
       "<div>\n",
       "<style scoped>\n",
       "    .dataframe tbody tr th:only-of-type {\n",
       "        vertical-align: middle;\n",
       "    }\n",
       "\n",
       "    .dataframe tbody tr th {\n",
       "        vertical-align: top;\n",
       "    }\n",
       "\n",
       "    .dataframe thead th {\n",
       "        text-align: right;\n",
       "    }\n",
       "</style>\n",
       "<table border=\"1\" class=\"dataframe\">\n",
       "  <thead>\n",
       "    <tr style=\"text-align: right;\">\n",
       "      <th></th>\n",
       "      <th>A</th>\n",
       "      <th>B</th>\n",
       "      <th>C</th>\n",
       "    </tr>\n",
       "  </thead>\n",
       "  <tbody>\n",
       "    <tr>\n",
       "      <th>0</th>\n",
       "      <td>12.0</td>\n",
       "      <td>NaN</td>\n",
       "      <td>14.0</td>\n",
       "    </tr>\n",
       "    <tr>\n",
       "      <th>1</th>\n",
       "      <td>NaN</td>\n",
       "      <td>13.0</td>\n",
       "      <td>NaN</td>\n",
       "    </tr>\n",
       "    <tr>\n",
       "      <th>2</th>\n",
       "      <td>16.0</td>\n",
       "      <td>14.0</td>\n",
       "      <td>7.0</td>\n",
       "    </tr>\n",
       "    <tr>\n",
       "      <th>3</th>\n",
       "      <td>18.0</td>\n",
       "      <td>17.0</td>\n",
       "      <td>8.0</td>\n",
       "    </tr>\n",
       "    <tr>\n",
       "      <th>4</th>\n",
       "      <td>19.0</td>\n",
       "      <td>18.0</td>\n",
       "      <td>9.0</td>\n",
       "    </tr>\n",
       "    <tr>\n",
       "      <th>5</th>\n",
       "      <td>NaN</td>\n",
       "      <td>NaN</td>\n",
       "      <td>NaN</td>\n",
       "    </tr>\n",
       "  </tbody>\n",
       "</table>\n",
       "</div>"
      ],
      "text/plain": [
       "      A     B     C\n",
       "0  12.0   NaN  14.0\n",
       "1   NaN  13.0   NaN\n",
       "2  16.0  14.0   7.0\n",
       "3  18.0  17.0   8.0\n",
       "4  19.0  18.0   9.0\n",
       "5   NaN   NaN   NaN"
      ]
     },
     "execution_count": 152,
     "metadata": {},
     "output_type": "execute_result"
    }
   ],
   "source": [
    "array"
   ]
  },
  {
   "cell_type": "code",
   "execution_count": 158,
   "id": "af611d56-2f76-47c9-b821-713367b57363",
   "metadata": {},
   "outputs": [
    {
     "data": {
      "text/html": [
       "<div>\n",
       "<style scoped>\n",
       "    .dataframe tbody tr th:only-of-type {\n",
       "        vertical-align: middle;\n",
       "    }\n",
       "\n",
       "    .dataframe tbody tr th {\n",
       "        vertical-align: top;\n",
       "    }\n",
       "\n",
       "    .dataframe thead th {\n",
       "        text-align: right;\n",
       "    }\n",
       "</style>\n",
       "<table border=\"1\" class=\"dataframe\">\n",
       "  <thead>\n",
       "    <tr style=\"text-align: right;\">\n",
       "      <th></th>\n",
       "      <th>A</th>\n",
       "      <th>B</th>\n",
       "      <th>C</th>\n",
       "    </tr>\n",
       "  </thead>\n",
       "  <tbody>\n",
       "    <tr>\n",
       "      <th>2</th>\n",
       "      <td>16.0</td>\n",
       "      <td>14.0</td>\n",
       "      <td>7.0</td>\n",
       "    </tr>\n",
       "    <tr>\n",
       "      <th>3</th>\n",
       "      <td>18.0</td>\n",
       "      <td>17.0</td>\n",
       "      <td>8.0</td>\n",
       "    </tr>\n",
       "    <tr>\n",
       "      <th>4</th>\n",
       "      <td>19.0</td>\n",
       "      <td>18.0</td>\n",
       "      <td>9.0</td>\n",
       "    </tr>\n",
       "  </tbody>\n",
       "</table>\n",
       "</div>"
      ],
      "text/plain": [
       "      A     B    C\n",
       "2  16.0  14.0  7.0\n",
       "3  18.0  17.0  8.0\n",
       "4  19.0  18.0  9.0"
      ]
     },
     "execution_count": 158,
     "metadata": {},
     "output_type": "execute_result"
    }
   ],
   "source": [
    "drop_any = array.dropna(how='any')\n",
    "drop_any\n"
   ]
  },
  {
   "cell_type": "code",
   "execution_count": 163,
   "id": "baabd2f3-5a2f-47b6-ba5b-c21b2e298f57",
   "metadata": {},
   "outputs": [
    {
     "name": "stderr",
     "output_type": "stream",
     "text": [
      "/tmp/ipykernel_20860/3988782003.py:1: FutureWarning: DataFrame.fillna with 'method' is deprecated and will raise in a future version. Use obj.ffill() or obj.bfill() instead.\n",
      "  fill_porthole = array.fillna(method='bfill')\n"
     ]
    },
    {
     "data": {
      "text/html": [
       "<div>\n",
       "<style scoped>\n",
       "    .dataframe tbody tr th:only-of-type {\n",
       "        vertical-align: middle;\n",
       "    }\n",
       "\n",
       "    .dataframe tbody tr th {\n",
       "        vertical-align: top;\n",
       "    }\n",
       "\n",
       "    .dataframe thead th {\n",
       "        text-align: right;\n",
       "    }\n",
       "</style>\n",
       "<table border=\"1\" class=\"dataframe\">\n",
       "  <thead>\n",
       "    <tr style=\"text-align: right;\">\n",
       "      <th></th>\n",
       "      <th>A</th>\n",
       "      <th>B</th>\n",
       "      <th>C</th>\n",
       "    </tr>\n",
       "  </thead>\n",
       "  <tbody>\n",
       "    <tr>\n",
       "      <th>0</th>\n",
       "      <td>12.0</td>\n",
       "      <td>13.0</td>\n",
       "      <td>14.0</td>\n",
       "    </tr>\n",
       "    <tr>\n",
       "      <th>1</th>\n",
       "      <td>16.0</td>\n",
       "      <td>13.0</td>\n",
       "      <td>7.0</td>\n",
       "    </tr>\n",
       "    <tr>\n",
       "      <th>2</th>\n",
       "      <td>16.0</td>\n",
       "      <td>14.0</td>\n",
       "      <td>7.0</td>\n",
       "    </tr>\n",
       "    <tr>\n",
       "      <th>3</th>\n",
       "      <td>18.0</td>\n",
       "      <td>17.0</td>\n",
       "      <td>8.0</td>\n",
       "    </tr>\n",
       "    <tr>\n",
       "      <th>4</th>\n",
       "      <td>19.0</td>\n",
       "      <td>18.0</td>\n",
       "      <td>9.0</td>\n",
       "    </tr>\n",
       "    <tr>\n",
       "      <th>5</th>\n",
       "      <td>NaN</td>\n",
       "      <td>NaN</td>\n",
       "      <td>NaN</td>\n",
       "    </tr>\n",
       "  </tbody>\n",
       "</table>\n",
       "</div>"
      ],
      "text/plain": [
       "      A     B     C\n",
       "0  12.0  13.0  14.0\n",
       "1  16.0  13.0   7.0\n",
       "2  16.0  14.0   7.0\n",
       "3  18.0  17.0   8.0\n",
       "4  19.0  18.0   9.0\n",
       "5   NaN   NaN   NaN"
      ]
     },
     "execution_count": 163,
     "metadata": {},
     "output_type": "execute_result"
    }
   ],
   "source": [
    "# if the row has content, we can use that as a guidepost to fill the rest\n",
    "fill_porthole = array.fillna(method='bfill')\n",
    "fill_porthole"
   ]
  },
  {
   "cell_type": "code",
   "execution_count": 168,
   "id": "adaf3396-872e-4dbf-aad8-02bd8ec31ac8",
   "metadata": {},
   "outputs": [
    {
     "data": {
      "text/plain": [
       "0    15.5\n",
       "1    13.0\n",
       "2    14.0\n",
       "3    17.0\n",
       "4    18.0\n",
       "5    15.5\n",
       "Name: B, dtype: float64"
      ]
     },
     "execution_count": 168,
     "metadata": {},
     "output_type": "execute_result"
    }
   ],
   "source": [
    "## We can fill a particular column as well, and with the mean\n",
    "\n",
    "fill_some_column_B = array.B.fillna(value=np.mean(array.B))\n",
    "fill_some_column_B"
   ]
  },
  {
   "cell_type": "code",
   "execution_count": 170,
   "id": "8ac1c0d9-3ee5-480a-bd83-043087c95d90",
   "metadata": {},
   "outputs": [
    {
     "data": {
      "text/plain": [
       "0    14.0\n",
       "1     9.5\n",
       "2     7.0\n",
       "3     8.0\n",
       "4     9.0\n",
       "5     9.5\n",
       "Name: C, dtype: float64"
      ]
     },
     "execution_count": 170,
     "metadata": {},
     "output_type": "execute_result"
    }
   ],
   "source": [
    "fill_column_C = array.C.fillna(value=np.mean(array.C))\n",
    "fill_column_C"
   ]
  },
  {
   "cell_type": "code",
   "execution_count": 172,
   "id": "725f0409-7264-4384-969a-7bdd4a639543",
   "metadata": {},
   "outputs": [
    {
     "data": {
      "text/plain": [
       "0       12.0\n",
       "1    65664.0\n",
       "2       16.0\n",
       "3       18.0\n",
       "4       19.0\n",
       "5    65664.0\n",
       "Name: A, dtype: float64"
      ]
     },
     "execution_count": 172,
     "metadata": {},
     "output_type": "execute_result"
    }
   ],
   "source": [
    "fill_column_A = array.A.fillna(value=np.mean(array.A))\n",
    "fill_column_A"
   ]
  },
  {
   "cell_type": "code",
   "execution_count": 173,
   "id": "48949d6d-8f2b-4829-a7ea-1f5e1ff5316e",
   "metadata": {},
   "outputs": [
    {
     "data": {
      "text/plain": [
       "0       12.0\n",
       "1    65664.0\n",
       "2       16.0\n",
       "3       18.0\n",
       "4       19.0\n",
       "5    65664.0\n",
       "Name: A, dtype: float64"
      ]
     },
     "execution_count": 173,
     "metadata": {},
     "output_type": "execute_result"
    }
   ],
   "source": [
    "# Instead of mean we can use something else,,,,,,,,,,,,,like product, sum, etc\n",
    "\n",
    "fill_column_A = array.A.fillna(value=np.product(array.A))\n",
    "fill_column_A\n",
    "\n",
    "\n",
    "# Product of 12, 16, 18, 19 will give 65664.0............showing that those were the areas with Nan"
   ]
  },
  {
   "cell_type": "code",
   "execution_count": 177,
   "id": "7d5e3a53-4d34-470b-abd8-55becf61b56f",
   "metadata": {},
   "outputs": [
    {
     "ename": "TypeError",
     "evalue": "'regex' must be a string or a compiled regular expression or a list or dict of strings or regular expressions, you passed a 'bool'",
     "output_type": "error",
     "traceback": [
      "\u001b[0;31m---------------------------------------------------------------------------\u001b[0m",
      "\u001b[0;31mTypeError\u001b[0m                                 Traceback (most recent call last)",
      "\u001b[0;32m/tmp/ipykernel_20860/1071616039.py\u001b[0m in \u001b[0;36m?\u001b[0;34m()\u001b[0m\n\u001b[1;32m      1\u001b[0m \u001b[0;31m### Let's attempt making it show 404........thikn we can?\u001b[0m\u001b[0;34m\u001b[0m\u001b[0;34m\u001b[0m\u001b[0m\n\u001b[1;32m      2\u001b[0m \u001b[0;34m\u001b[0m\u001b[0m\n\u001b[0;32m----> 3\u001b[0;31m \u001b[0mfill_A_404\u001b[0m \u001b[0;34m=\u001b[0m \u001b[0marray\u001b[0m\u001b[0;34m.\u001b[0m\u001b[0mA\u001b[0m\u001b[0;34m.\u001b[0m\u001b[0mreplace\u001b[0m\u001b[0;34m(\u001b[0m\u001b[0mvalue\u001b[0m\u001b[0;34m=\u001b[0m\u001b[0;36m404\u001b[0m\u001b[0;34m)\u001b[0m\u001b[0;34m\u001b[0m\u001b[0;34m\u001b[0m\u001b[0m\n\u001b[0m",
      "\u001b[0;32m~/.local/lib/python3.11/site-packages/pandas/core/generic.py\u001b[0m in \u001b[0;36m?\u001b[0;34m(self, to_replace, value, inplace, limit, regex, method)\u001b[0m\n\u001b[1;32m   7874\u001b[0m                     \u001b[0mis_re_compilable\u001b[0m\u001b[0;34m(\u001b[0m\u001b[0mregex\u001b[0m\u001b[0;34m)\u001b[0m\u001b[0;34m\u001b[0m\u001b[0;34m\u001b[0m\u001b[0m\n\u001b[1;32m   7875\u001b[0m                     \u001b[0;32mor\u001b[0m \u001b[0mis_list_like\u001b[0m\u001b[0;34m(\u001b[0m\u001b[0mregex\u001b[0m\u001b[0;34m)\u001b[0m\u001b[0;34m\u001b[0m\u001b[0;34m\u001b[0m\u001b[0m\n\u001b[1;32m   7876\u001b[0m                     \u001b[0;32mor\u001b[0m \u001b[0mis_dict_like\u001b[0m\u001b[0;34m(\u001b[0m\u001b[0mregex\u001b[0m\u001b[0;34m)\u001b[0m\u001b[0;34m\u001b[0m\u001b[0;34m\u001b[0m\u001b[0m\n\u001b[1;32m   7877\u001b[0m                 ):\n\u001b[0;32m-> 7878\u001b[0;31m                     raise TypeError(\n\u001b[0m\u001b[1;32m   7879\u001b[0m                         \u001b[0;34mf\"'regex' must be a string or a compiled regular expression \"\u001b[0m\u001b[0;34m\u001b[0m\u001b[0;34m\u001b[0m\u001b[0m\n\u001b[1;32m   7880\u001b[0m                         \u001b[0;34mf\"or a list or dict of strings or regular expressions, \"\u001b[0m\u001b[0;34m\u001b[0m\u001b[0;34m\u001b[0m\u001b[0m\n\u001b[1;32m   7881\u001b[0m                         \u001b[0;34mf\"you passed a {repr(type(regex).__name__)}\"\u001b[0m\u001b[0;34m\u001b[0m\u001b[0;34m\u001b[0m\u001b[0m\n",
      "\u001b[0;31mTypeError\u001b[0m: 'regex' must be a string or a compiled regular expression or a list or dict of strings or regular expressions, you passed a 'bool'"
     ]
    }
   ],
   "source": [
    "### Let's attempt making it show 404........thikn we can?\n",
    "\n",
    "fill_A_404 = array.A.replace(value=404)"
   ]
  },
  {
   "cell_type": "code",
   "execution_count": 182,
   "id": "de96357e-bccc-4e3f-afdc-5c2ad4c7e333",
   "metadata": {},
   "outputs": [
    {
     "data": {
      "text/plain": [
       "0     12.0\n",
       "1    404.0\n",
       "2     16.0\n",
       "3     18.0\n",
       "4     19.0\n",
       "5    404.0\n",
       "Name: A, dtype: float64"
      ]
     },
     "execution_count": 182,
     "metadata": {},
     "output_type": "execute_result"
    }
   ],
   "source": [
    "fill_A_404 = array['A'].fillna(value=404)\n",
    "fill_A_404"
   ]
  },
  {
   "cell_type": "code",
   "execution_count": 183,
   "id": "0a960111-2176-46cc-b365-fc7f77abed87",
   "metadata": {},
   "outputs": [],
   "source": [
    "imp=SimpleImputer(strategy='median')"
   ]
  },
  {
   "cell_type": "code",
   "execution_count": 184,
   "id": "0595a8b4-e6ff-4982-b447-3c688fcc0dc4",
   "metadata": {},
   "outputs": [],
   "source": [
    "a=imp.fit_transform(array)"
   ]
  },
  {
   "cell_type": "code",
   "execution_count": 186,
   "id": "3635a44f-1de2-4d72-87bd-9a4e56a1e455",
   "metadata": {},
   "outputs": [],
   "source": [
    "array=pd.DataFrame(a, columns=['A','B','C'])"
   ]
  },
  {
   "cell_type": "code",
   "execution_count": 187,
   "id": "54519602-a0de-4425-9375-aa114bbef0b7",
   "metadata": {},
   "outputs": [
    {
     "data": {
      "text/html": [
       "<div>\n",
       "<style scoped>\n",
       "    .dataframe tbody tr th:only-of-type {\n",
       "        vertical-align: middle;\n",
       "    }\n",
       "\n",
       "    .dataframe tbody tr th {\n",
       "        vertical-align: top;\n",
       "    }\n",
       "\n",
       "    .dataframe thead th {\n",
       "        text-align: right;\n",
       "    }\n",
       "</style>\n",
       "<table border=\"1\" class=\"dataframe\">\n",
       "  <thead>\n",
       "    <tr style=\"text-align: right;\">\n",
       "      <th></th>\n",
       "      <th>A</th>\n",
       "      <th>B</th>\n",
       "      <th>C</th>\n",
       "    </tr>\n",
       "  </thead>\n",
       "  <tbody>\n",
       "    <tr>\n",
       "      <th>0</th>\n",
       "      <td>12.0</td>\n",
       "      <td>15.5</td>\n",
       "      <td>14.0</td>\n",
       "    </tr>\n",
       "    <tr>\n",
       "      <th>1</th>\n",
       "      <td>17.0</td>\n",
       "      <td>13.0</td>\n",
       "      <td>8.5</td>\n",
       "    </tr>\n",
       "    <tr>\n",
       "      <th>2</th>\n",
       "      <td>16.0</td>\n",
       "      <td>14.0</td>\n",
       "      <td>7.0</td>\n",
       "    </tr>\n",
       "    <tr>\n",
       "      <th>3</th>\n",
       "      <td>18.0</td>\n",
       "      <td>17.0</td>\n",
       "      <td>8.0</td>\n",
       "    </tr>\n",
       "    <tr>\n",
       "      <th>4</th>\n",
       "      <td>19.0</td>\n",
       "      <td>18.0</td>\n",
       "      <td>9.0</td>\n",
       "    </tr>\n",
       "    <tr>\n",
       "      <th>5</th>\n",
       "      <td>17.0</td>\n",
       "      <td>15.5</td>\n",
       "      <td>8.5</td>\n",
       "    </tr>\n",
       "  </tbody>\n",
       "</table>\n",
       "</div>"
      ],
      "text/plain": [
       "      A     B     C\n",
       "0  12.0  15.5  14.0\n",
       "1  17.0  13.0   8.5\n",
       "2  16.0  14.0   7.0\n",
       "3  18.0  17.0   8.0\n",
       "4  19.0  18.0   9.0\n",
       "5  17.0  15.5   8.5"
      ]
     },
     "execution_count": 187,
     "metadata": {},
     "output_type": "execute_result"
    }
   ],
   "source": [
    "array"
   ]
  },
  {
   "cell_type": "code",
   "execution_count": null,
   "id": "c97a3bd4-c90a-4e71-88f5-c1a472a18b48",
   "metadata": {},
   "outputs": [],
   "source": []
  }
 ],
 "metadata": {
  "kernelspec": {
   "display_name": "Python 3 (ipykernel)",
   "language": "python",
   "name": "python3"
  },
  "language_info": {
   "codemirror_mode": {
    "name": "ipython",
    "version": 3
   },
   "file_extension": ".py",
   "mimetype": "text/x-python",
   "name": "python",
   "nbconvert_exporter": "python",
   "pygments_lexer": "ipython3",
   "version": "3.11.6"
  }
 },
 "nbformat": 4,
 "nbformat_minor": 5
}
