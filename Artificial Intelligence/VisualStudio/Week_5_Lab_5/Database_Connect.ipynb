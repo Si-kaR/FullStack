{
 "cells": [
  {
   "cell_type": "code",
   "execution_count": 1,
   "id": "57716b59-2cbc-40a9-9acd-1aa8bffea339",
   "metadata": {},
   "outputs": [
    {
     "name": "stdout",
     "output_type": "stream",
     "text": [
      "Defaulting to user installation because normal site-packages is not writeable\n",
      "Requirement already satisfied: pymongo in /home/griphen/.local/lib/python3.11/site-packages (4.5.0)\n",
      "Requirement already satisfied: dnspython<3.0.0,>=1.16.0 in /home/griphen/.local/lib/python3.11/site-packages (from pymongo) (2.4.2)\n"
     ]
    }
   ],
   "source": [
    "!pip install pymongo"
   ]
  },
  {
   "cell_type": "code",
   "execution_count": 2,
   "id": "a790b863-6ba3-4e5f-a98d-820e463f6324",
   "metadata": {},
   "outputs": [],
   "source": [
    "import pymongo"
   ]
  },
  {
   "cell_type": "code",
   "execution_count": 4,
   "id": "cd836a20-8a62-4a36-8153-0ed4a289d0e9",
   "metadata": {},
   "outputs": [],
   "source": [
    "from pymongo import MongoClient\n",
    "client = MongoClient(\"localhost\", 27017)\n",
    "# client = MongoClient('mongodb://localhost:27017/')"
   ]
  },
  {
   "cell_type": "code",
   "execution_count": 5,
   "id": "66b79a6c-f491-48ad-b435-9ee16a31c34e",
   "metadata": {},
   "outputs": [],
   "source": [
    "db = client['Ghandi']"
   ]
  },
  {
   "cell_type": "code",
   "execution_count": 1,
   "id": "e4821e31-3911-466c-9b34-c1325d114621",
   "metadata": {},
   "outputs": [],
   "source": [
    "article = {\"author\": \"Ghandi Amar\",\n",
    "          \"about\": \"Introduction to MongoDB and Python\",\n",
    "          \"tag\":[\"mongodb\",\"python\",\"pymongo\"]}"
   ]
  },
  {
   "cell_type": "code",
   "execution_count": null,
   "id": "b3bb5a9e-ab37-465c-a4c0-5fe4f6a133ad",
   "metadata": {},
   "outputs": [],
   "source": [
    "article = db.articles"
   ]
  },
  {
   "cell_type": "code",
   "execution_count": null,
   "id": "ba391c6a-944a-4b28-9bd9-42bf995adef0",
   "metadata": {},
   "outputs": [],
   "source": [
    "result = article.insert_one()"
   ]
  },
  {
   "cell_type": "code",
   "execution_count": null,
   "id": "5e9b1ca0-84e6-4587-a513-471d5027cbb1",
   "metadata": {},
   "outputs": [],
   "source": [
    "article_1 = {\"author\": \"Solomon Aphazhy\",\n",
    "          \"about\": \"Introduction to AI\",\n",
    "          \"tag\":[\"AI\",\"ML\",\"DL\"]}\n",
    "article_2 = {\"author\": \"Amir Pharouk\",\n",
    "          \"about\": \"Introduction to Data Science\",\n",
    "          \"tag\":[\"Technology\",\"Data\",\"Science\"]}"
   ]
  },
  {
   "cell_type": "code",
   "execution_count": null,
   "id": "bb317728-93b6-425d-aa36-bab45a4bacb5",
   "metadata": {},
   "outputs": [],
   "source": [
    "new = articles.insert_many([article_1, article_2, article_3])"
   ]
  },
  {
   "cell_type": "code",
   "execution_count": null,
   "id": "89fd200f-9edb-4963-a78c-b952fd8f2b80",
   "metadata": {},
   "outputs": [],
   "source": [
    "new.inserted_ids"
   ]
  },
  {
   "cell_type": "code",
   "execution_count": null,
   "id": "d45ca3de-1183-4146-92c2-627d096208cd",
   "metadata": {},
   "outputs": [],
   "source": [
    "articles.find_one()"
   ]
  },
  {
   "cell_type": "code",
   "execution_count": null,
   "id": "a3a486d4-b755-465f-9d58-967d52718bb7",
   "metadata": {},
   "outputs": [],
   "source": [
    "# for i in articles.find():\n",
    "#     print(i,'\\n')\n",
    "\n",
    "    "
   ]
  },
  {
   "cell_type": "code",
   "execution_count": null,
   "id": "cd1f549b-36e2-4a92-9653-ec3a25ac1915",
   "metadata": {},
   "outputs": [],
   "source": [
    "# import pandas as pd"
   ]
  },
  {
   "cell_type": "code",
   "execution_count": null,
   "id": "d404a9df-fe71-4e71-a5b7-caef86385071",
   "metadata": {},
   "outputs": [],
   "source": [
    "L=[]\n",
    "for i in articles.find():\n",
    "    L.append(i)\n",
    "    print(i,'\\n')"
   ]
  },
  {
   "cell_type": "code",
   "execution_count": null,
   "id": "62668850-b369-4373-a261-d5cc40ac6f90",
   "metadata": {},
   "outputs": [],
   "source": [
    "import pandas as pd"
   ]
  },
  {
   "cell_type": "code",
   "execution_count": null,
   "id": "471a1e74-709a-4a59-ae3e-595732271826",
   "metadata": {},
   "outputs": [],
   "source": [
    "df = =pd.DataFrame(L)"
   ]
  },
  {
   "cell_type": "code",
   "execution_count": null,
   "id": "75458812-5d9f-4b43-a352-a2bb2f40fc28",
   "metadata": {},
   "outputs": [],
   "source": [
    "df"
   ]
  },
  {
   "cell_type": "code",
   "execution_count": null,
   "id": "ebff343c-cb8e-4eab-ae0a-d664b6e87de0",
   "metadata": {},
   "outputs": [],
   "source": []
  },
  {
   "cell_type": "code",
   "execution_count": null,
   "id": "ead8c3ce-5a1e-4c03-a184-194d42819d7a",
   "metadata": {},
   "outputs": [],
   "source": []
  },
  {
   "cell_type": "code",
   "execution_count": null,
   "id": "bf4d7f01-ebc5-4a84-9239-7b722e2afddb",
   "metadata": {},
   "outputs": [],
   "source": [
    "import mysql.connector as mysql"
   ]
  },
  {
   "cell_type": "code",
   "execution_count": null,
   "id": "e1297772-dec5-49ee-94ad-28931ef74da2",
   "metadata": {},
   "outputs": [],
   "source": [
    "db = mysql.connector(\n",
    "    host = \"localhost\",\n",
    "    user = \"root\",\n",
    "    passwd = \"\",\n",
    "    database = \"classicmodels\")\n",
    "cursor = db.cursor()\n",
    "query = \"SELECT * FROM customers\"\n",
    "cursor.execute(query)\n",
    "records = cursor.fetchall()"
   ]
  },
  {
   "cell_type": "code",
   "execution_count": null,
   "id": "6987e8af-cbb8-4225-90bf-76089683d616",
   "metadata": {},
   "outputs": [],
   "source": [
    "df = pd.DataFrame(records, columns = ['customerNumber','customerName','contactLastName',\n",
    "                                     'contactFirstName','phone','addressLine1','addressLine2', 'city', 'state', \n",
    "                                    'postalCode', 'country', 'salesRepEmployeeNumber', 'creditLimit'\n",
    "                                     ])"
   ]
  },
  {
   "cell_type": "code",
   "execution_count": null,
   "id": "8a4bc7b6-5d3e-4b19-9c0a-d59aa6d07b24",
   "metadata": {},
   "outputs": [],
   "source": [
    "df"
   ]
  },
  {
   "cell_type": "code",
   "execution_count": null,
   "id": "e8789f6e-2d6b-4b53-9e30-9e898821044a",
   "metadata": {},
   "outputs": [],
   "source": [
    "df_csv('My Dataset.csv')"
   ]
  }
 ],
 "metadata": {
  "kernelspec": {
   "display_name": "Python 3 (ipykernel)",
   "language": "python",
   "name": "python3"
  },
  "language_info": {
   "codemirror_mode": {
    "name": "ipython",
    "version": 3
   },
   "file_extension": ".py",
   "mimetype": "text/x-python",
   "name": "python",
   "nbconvert_exporter": "python",
   "pygments_lexer": "ipython3",
   "version": "3.11.5"
  }
 },
 "nbformat": 4,
 "nbformat_minor": 5
}
